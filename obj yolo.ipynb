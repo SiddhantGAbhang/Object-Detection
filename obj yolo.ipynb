{
 "cells": [
  {
   "cell_type": "code",
   "execution_count": 2,
   "metadata": {},
   "outputs": [
    {
     "ename": "SyntaxError",
     "evalue": "(unicode error) 'unicodeescape' codec can't decode bytes in position 2-3: truncated \\UXXXXXXXX escape (3265488479.py, line 7)",
     "output_type": "error",
     "traceback": [
      "\u001b[1;36m  Cell \u001b[1;32mIn[2], line 7\u001b[1;36m\u001b[0m\n\u001b[1;33m    with open(\"C:\\Users\\siddh\\Downloads\\Object Detection Final\\obj detection yolo\\coco.txt\", \"r\") as my_file:\u001b[0m\n\u001b[1;37m                                                                                           ^\u001b[0m\n\u001b[1;31mSyntaxError\u001b[0m\u001b[1;31m:\u001b[0m (unicode error) 'unicodeescape' codec can't decode bytes in position 2-3: truncated \\UXXXXXXXX escape\n"
     ]
    }
   ],
   "source": [
    "import numpy as np\n",
    "import cv2\n",
    "from ultralytics import YOLO\n",
    "import random\n",
    "\n",
    "# Read class names from file\n",
    "with open(\"C:\\Users\\siddh\\Downloads\\Object Detection Final\\obj detection yolo\\coco.txt\", \"r\") as my_file:\n",
    "    class_list = my_file.read().split(\"\\n\")\n",
    "\n",
    "# Generate random colors for each class\n",
    "detection_colors = [(random.randint(0, 255), random.randint(0, 255), random.randint(0, 255)) for _ in class_list]\n",
    "\n",
    "# Initialize YOLO model\n",
    "model = YOLO(\"C:\\Users\\siddh\\Downloads\\Object Detection Final\\obj detection yolo\\yolov8n.pt\", \"v8\")\n",
    "\n",
    "# Open webcam\n",
    "cap = cv2.VideoCapture(0)\n",
    "if not cap.isOpened():\n",
    "    print(\"Cannot open webcam\")\n",
    "    exit()\n",
    "\n",
    "while True:\n",
    "    ret, frame = cap.read()\n",
    "    if not ret:\n",
    "        print(\"Can't receive frame (stream end?). Exiting ...\")\n",
    "        break\n",
    "\n",
    "    # Object detection\n",
    "    detect_params = model.predict(source=[frame], conf=0.45, save=False)\n",
    "    DP = detect_params[0].numpy()\n",
    "    print(DP)\n",
    "\n",
    "    if len(DP) != 0:\n",
    "        for i in range(len(detect_params[0])):\n",
    "            boxes = detect_params[0].boxes\n",
    "            box = boxes[i]\n",
    "            clsID = box.cls.numpy()[0]\n",
    "            conf = box.conf.numpy()[0]\n",
    "            bb = box.xyxy.numpy()[0]\n",
    "\n",
    "            # Draw bounding box\n",
    "            cv2.rectangle(frame, (int(bb[0]), int(bb[1])), (int(bb[2]), int(bb[3])), detection_colors[int(clsID)], 2)\n",
    "            # Display class name and confidence\n",
    "            font = cv2.FONT_HERSHEY_DUPLEX\n",
    "            cv2.putText(frame, class_list[int(clsID)].upper() + \" \" + str(round(conf, 3)) + \"%\", (int(bb[0]), int(bb[1]) - 5), font, 0.5, (102, 255, 102), 2)\n",
    "\n",
    "    cv2.imshow('Object Detection', frame)\n",
    "\n",
    "    # Exit on 'q' key press\n",
    "    if cv2.waitKey(1) == ord('q'):\n",
    "        break\n",
    "\n",
    "cap.release()\n",
    "cv2.destroyAllWindows()\n"
   ]
  }
 ],
 "metadata": {
  "kernelspec": {
   "display_name": "Python 3",
   "language": "python",
   "name": "python3"
  },
  "language_info": {
   "codemirror_mode": {
    "name": "ipython",
    "version": 3
   },
   "file_extension": ".py",
   "mimetype": "text/x-python",
   "name": "python",
   "nbconvert_exporter": "python",
   "pygments_lexer": "ipython3",
   "version": "3.11.9"
  }
 },
 "nbformat": 4,
 "nbformat_minor": 2
}
